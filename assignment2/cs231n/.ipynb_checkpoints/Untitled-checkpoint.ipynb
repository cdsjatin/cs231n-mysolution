{
 "cells": [
  {
   "cell_type": "code",
   "execution_count": 1,
   "metadata": {
    "collapsed": true
   },
   "outputs": [],
   "source": [
    "import numpy as np\n"
   ]
  },
  {
   "cell_type": "code",
   "execution_count": 16,
   "metadata": {
    "collapsed": true
   },
   "outputs": [],
   "source": [
    "x_shape = (2, 3, 4, 4)\n",
    "w_shape = (3, 3, 4, 4)\n",
    "x = np.linspace(-0.1, 0.5, num=np.prod(x_shape)).reshape(x_shape)\n",
    "w = np.linspace(-0.2, 0.3, num=np.prod(w_shape)).reshape(w_shape)\n",
    "b = np.linspace(-0.1, 0.2, num=3)"
   ]
  },
  {
   "cell_type": "code",
   "execution_count": 17,
   "metadata": {
    "collapsed": false
   },
   "outputs": [
    {
     "name": "stdout",
     "output_type": "stream",
     "text": [
      "(2, 3, 4, 4) (3, 3, 4, 4)\n"
     ]
    }
   ],
   "source": [
    "print(x_shape,w_shape)"
   ]
  },
  {
   "cell_type": "code",
   "execution_count": 32,
   "metadata": {
    "collapsed": false
   },
   "outputs": [
    {
     "name": "stdout",
     "output_type": "stream",
     "text": [
      "(2, 3, 6, 6)\n"
     ]
    }
   ],
   "source": [
    "pad = 1\n",
    "stride = 2\n",
    "\n",
    "N = 2\n",
    "C = 3\n",
    "Y = np.zeros(shape=(N,C,4+2*pad,4+2*pad))\n",
    "print(Y.shape)"
   ]
  },
  {
   "cell_type": "code",
   "execution_count": 33,
   "metadata": {
    "collapsed": false
   },
   "outputs": [
    {
     "name": "stdout",
     "output_type": "stream",
     "text": [
      "(4, 4)\n",
      "(6, 6)\n",
      "(4, 4)\n",
      "(6, 6)\n",
      "(4, 4)\n",
      "(6, 6)\n",
      "(4, 4)\n",
      "(6, 6)\n",
      "(4, 4)\n",
      "(6, 6)\n",
      "(4, 4)\n",
      "(6, 6)\n",
      "(2, 3, 6, 6)\n",
      "(2, 3, 4, 4)\n",
      "Shape must be 2,3,6,6\n"
     ]
    }
   ],
   "source": [
    "for n in range(0,N):\n",
    "    for c in range(0,C):\n",
    "        y = x[n,c,:,:]\n",
    "        print(y.shape)\n",
    "        y = np.pad(x[n,c,:,:],pad,'constant')\n",
    "        print(y.shape)\n",
    "        Y[n,c,:,:] = y\n",
    "\n",
    "print(Y.shape)        \n",
    "print(x.shape)\n",
    "print('Shape must be 2,3,6,6')\n"
   ]
  },
  {
   "cell_type": "code",
   "execution_count": 30,
   "metadata": {
    "collapsed": true
   },
   "outputs": [],
   "source": [
    "? np.zeros\n",
    "\n"
   ]
  },
  {
   "cell_type": "code",
   "execution_count": null,
   "metadata": {
    "collapsed": true
   },
   "outputs": [],
   "source": []
  }
 ],
 "metadata": {
  "kernelspec": {
   "display_name": "Python 3",
   "language": "python",
   "name": "python3"
  },
  "language_info": {
   "codemirror_mode": {
    "name": "ipython",
    "version": 3
   },
   "file_extension": ".py",
   "mimetype": "text/x-python",
   "name": "python",
   "nbconvert_exporter": "python",
   "pygments_lexer": "ipython3",
   "version": "3.5.2"
  }
 },
 "nbformat": 4,
 "nbformat_minor": 0
}
