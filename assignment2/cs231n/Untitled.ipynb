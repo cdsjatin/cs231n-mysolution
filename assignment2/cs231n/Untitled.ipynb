{
 "cells": [
  {
   "cell_type": "code",
   "execution_count": 1,
   "metadata": {
    "collapsed": true
   },
   "outputs": [],
   "source": [
    "import numpy as np\n",
    "import random.Random as rand"
   ]
  },
  {
   "cell_type": "code",
   "execution_count": 22,
   "metadata": {
    "collapsed": true
   },
   "outputs": [],
   "source": [
    "num_inputs = 2\n",
    "input_shape = (4, 5, 6)\n",
    "output_dim = 3\n",
    "\n",
    "input_size = num_inputs * np.prod(input_shape)\n",
    "weight_size = output_dim * np.prod(input_shape)\n",
    "\n",
    "x = np.linspace(-0.1, 0.5, num=input_size).reshape(num_inputs, *input_shape)\n",
    "w = np.linspace(-0.2, 0.3, num=weight_size).reshape(np.prod(input_shape), output_dim)\n",
    "b = np.linspace(-0.3, 0.1, num=output_dim)"
   ]
  },
  {
   "cell_type": "code",
   "execution_count": 31,
   "metadata": {
    "collapsed": false
   },
   "outputs": [
    {
     "data": {
      "text/plain": [
       "(2, 4, 5, 6)"
      ]
     },
     "execution_count": 31,
     "metadata": {},
     "output_type": "execute_result"
    }
   ],
   "source": [
    "x.shape"
   ]
  },
  {
   "cell_type": "code",
   "execution_count": 36,
   "metadata": {
    "collapsed": false
   },
   "outputs": [
    {
     "name": "stdout",
     "output_type": "stream",
     "text": [
      "(2, 120)\n"
     ]
    }
   ],
   "source": [
    "a = 1\n",
    "for k in x.shape[1:]:\n",
    "    a *= k\n",
    "a\n",
    "xx = x.reshape(2,a)\n",
    "print(x.reshape(2,a).shape)"
   ]
  },
  {
   "cell_type": "code",
   "execution_count": 44,
   "metadata": {
    "collapsed": false
   },
   "outputs": [
    {
     "data": {
      "text/plain": [
       "array([[[ 0.        ,  0.        ,  0.        ,  0.        ],\n",
       "        [ 0.        ,  0.        ,  0.04545455,  0.13636364],\n",
       "        [ 0.22727273,  0.31818182,  0.40909091,  0.5       ]]])"
      ]
     },
     "execution_count": 44,
     "metadata": {},
     "output_type": "execute_result"
    }
   ],
   "source": [
    "x = np.linspace(-0.5, 0.5, num=12).reshape(3, 4)\n",
    "x = np.maximum(0,x)\n",
    "\n",
    "y = x * [x > 0]\n",
    "y"
   ]
  },
  {
   "cell_type": "code",
   "execution_count": 18,
   "metadata": {
    "collapsed": true
   },
   "outputs": [],
   "source": [
    "? np.multiply"
   ]
  },
  {
   "cell_type": "code",
   "execution_count": 5,
   "metadata": {
    "collapsed": true
   },
   "outputs": [],
   "source": [
    "?np.random.randn"
   ]
  },
  {
   "cell_type": "code",
   "execution_count": 7,
   "metadata": {
    "collapsed": false
   },
   "outputs": [
    {
     "data": {
      "text/plain": [
       "array([[-0.00112839,  0.00117883, -0.00062077, ..., -0.00141543,\n",
       "        -0.00099226, -0.00074327],\n",
       "       [ 0.00071837,  0.00093135, -0.00061275, ...,  0.00080786,\n",
       "         0.00078979, -0.00102252],\n",
       "       [-0.00037729, -0.0003042 ,  0.00120269, ...,  0.00076969,\n",
       "        -0.00076243, -0.00070643],\n",
       "       ..., \n",
       "       [-0.00063786,  0.00047936, -0.00112482, ..., -0.00124411,\n",
       "         0.00013677, -0.00033421],\n",
       "       [ 0.00021886,  0.0021478 , -0.00134265, ...,  0.00132559,\n",
       "         0.00079304, -0.0003057 ],\n",
       "       [ 0.00014655, -0.00112367,  0.00069426, ...,  0.00078385,\n",
       "        -0.00030067, -0.00019286]])"
      ]
     },
     "execution_count": 7,
     "metadata": {},
     "output_type": "execute_result"
    }
   ],
   "source": [
    "input_dim=3*32*32 \n",
    "hidden_dim=100\n",
    "num_classes=10\n",
    "weight_scale=1e-3\n",
    "\n",
    "W1 = weight_scale*np.random.randn(input_dim,hidden_dim)\n",
    "b1 = np.zeros(hidden_dim)\n",
    "W2 = weight_scale*np.random.randn(hidden_dim,num_classes)\n",
    "b2 = np.zeros(num_classes)\n"
   ]
  },
  {
   "cell_type": "code",
   "execution_count": 8,
   "metadata": {
    "collapsed": false
   },
   "outputs": [
    {
     "ename": "SyntaxError",
     "evalue": "can't assign to operator (<ipython-input-8-624cf6114dfa>, line 3)",
     "output_type": "error",
     "traceback": [
      "\u001b[1;36m  File \u001b[1;32m\"<ipython-input-8-624cf6114dfa>\"\u001b[1;36m, line \u001b[1;32m3\u001b[0m\n\u001b[1;33m    for i+1,h in enumerate(hidden_dims):\u001b[0m\n\u001b[1;37m       ^\u001b[0m\n\u001b[1;31mSyntaxError\u001b[0m\u001b[1;31m:\u001b[0m can't assign to operator\n"
     ]
    }
   ],
   "source": [
    "hidden_dims = [10,20]\n",
    "\n",
    "for i+1,h in enumerate(hidden_dims):\n",
    "    print(i,h)\n",
    "    \n",
    "weight = 'W'+str(i)\n",
    "print(weight)"
   ]
  },
  {
   "cell_type": "code",
   "execution_count": 18,
   "metadata": {
    "collapsed": false
   },
   "outputs": [
    {
     "name": "stdout",
     "output_type": "stream",
     "text": [
      "[[ 0.41794341]\n",
      " [ 1.39710028]\n",
      " [-1.78590431]\n",
      " [-0.70882773]\n",
      " [-0.07472532]\n",
      " [-0.77501677]\n",
      " [-0.1497979 ]\n",
      " [ 1.86172902]\n",
      " [-1.4255293 ]\n",
      " [-0.3763567 ]]\n",
      "-0.161938531569 1.08741451827\n",
      "[[ 0.53326669]\n",
      " [ 1.4337116 ]\n",
      " [-1.49341925]\n",
      " [-0.50292615]\n",
      " [ 0.08020236]\n",
      " [-0.56379442]\n",
      " [ 0.01116467]\n",
      " [ 1.86099001]\n",
      " [-1.16201388]\n",
      " [-0.19718163]] -2.49800180541e-17 1.0\n"
     ]
    }
   ],
   "source": [
    "np.random.seed(231)\n",
    "x = np.random.randn(10,1)\n",
    "print(x)\n",
    "mean = np.mean(x)\n",
    "\n",
    "var = np.std(x)\n",
    "print(mean,var)\n",
    "\n",
    "x = (x-mean)/var\n",
    "print(x,np.mean(x),np.var(x))\n"
   ]
  },
  {
   "cell_type": "code",
   "execution_count": 1,
   "metadata": {
    "collapsed": true
   },
   "outputs": [],
   "source": [
    "import numpy as np"
   ]
  },
  {
   "cell_type": "code",
   "execution_count": 4,
   "metadata": {
    "collapsed": false
   },
   "outputs": [
    {
     "data": {
      "text/plain": [
       "array([-0.70523466,  0.68274215, -2.20316384,  0.63996409,  0.75092742])"
      ]
     },
     "execution_count": 4,
     "metadata": {},
     "output_type": "execute_result"
    }
   ],
   "source": [
    "x = np.random.randn(5)\n",
    "x"
   ]
  },
  {
   "cell_type": "code",
   "execution_count": 5,
   "metadata": {
    "collapsed": false
   },
   "outputs": [
    {
     "ename": "ValueError",
     "evalue": "cannot reshape array of size 5 into shape (5,5)",
     "output_type": "error",
     "traceback": [
      "\u001b[1;31m---------------------------------------------------------------------------\u001b[0m",
      "\u001b[1;31mValueError\u001b[0m                                Traceback (most recent call last)",
      "\u001b[1;32m<ipython-input-5-1199a7975814>\u001b[0m in \u001b[0;36m<module>\u001b[1;34m()\u001b[0m\n\u001b[1;32m----> 1\u001b[1;33m \u001b[0mx\u001b[0m\u001b[1;33m.\u001b[0m\u001b[0mreshape\u001b[0m\u001b[1;33m(\u001b[0m\u001b[1;36m5\u001b[0m\u001b[1;33m,\u001b[0m\u001b[1;36m5\u001b[0m\u001b[1;33m)\u001b[0m\u001b[1;33m\u001b[0m\u001b[0m\n\u001b[0m",
      "\u001b[1;31mValueError\u001b[0m: cannot reshape array of size 5 into shape (5,5)"
     ]
    }
   ],
   "source": [
    "x.reshape(5,"
   ]
  },
  {
   "cell_type": "code",
   "execution_count": 12,
   "metadata": {
    "collapsed": false
   },
   "outputs": [
    {
     "name": "stdout",
     "output_type": "stream",
     "text": [
      "[[ 1.  1.  1.  1.  1.]\n",
      " [ 1.  1.  1.  1.  1.]\n",
      " [ 1.  1.  1.  1.  1.]\n",
      " [ 1.  1.  1.  1.  1.]\n",
      " [ 1.  1.  1.  1.  1.]]\n",
      "[[-0.70523466  0.68274215 -2.20316384  0.63996409  0.75092742]\n",
      " [-0.70523466  0.68274215 -2.20316384  0.63996409  0.75092742]\n",
      " [-0.70523466  0.68274215 -2.20316384  0.63996409  0.75092742]\n",
      " [-0.70523466  0.68274215 -2.20316384  0.63996409  0.75092742]\n",
      " [-0.70523466  0.68274215 -2.20316384  0.63996409  0.75092742]]\n"
     ]
    }
   ],
   "source": [
    "a = np.ones((5,5))\n",
    "print(a)\n",
    "b = x*a\n",
    "print(b)"
   ]
  },
  {
   "cell_type": "code",
   "execution_count": 11,
   "metadata": {
    "collapsed": true
   },
   "outputs": [],
   "source": [
    "? np.ones"
   ]
  },
  {
   "cell_type": "code",
   "execution_count": null,
   "metadata": {
    "collapsed": true
   },
   "outputs": [],
   "source": []
  }
 ],
 "metadata": {
  "kernelspec": {
   "display_name": "Python 3",
   "language": "python",
   "name": "python3"
  },
  "language_info": {
   "codemirror_mode": {
    "name": "ipython",
    "version": 3
   },
   "file_extension": ".py",
   "mimetype": "text/x-python",
   "name": "python",
   "nbconvert_exporter": "python",
   "pygments_lexer": "ipython3",
   "version": "3.5.2"
  }
 },
 "nbformat": 4,
 "nbformat_minor": 0
}
