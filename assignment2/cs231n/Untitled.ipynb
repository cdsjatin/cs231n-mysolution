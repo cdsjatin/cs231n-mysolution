{
 "cells": [
  {
   "cell_type": "code",
   "execution_count": 1,
   "metadata": {
    "collapsed": true
   },
   "outputs": [],
   "source": [
    "import numpy as np\n"
   ]
  },
  {
   "cell_type": "code",
   "execution_count": 16,
   "metadata": {
    "collapsed": true
   },
   "outputs": [],
   "source": [
    "x_shape = (2, 3, 4, 4)\n",
    "w_shape = (3, 3, 4, 4)\n",
    "x = np.linspace(-0.1, 0.5, num=np.prod(x_shape)).reshape(x_shape)\n",
    "w = np.linspace(-0.2, 0.3, num=np.prod(w_shape)).reshape(w_shape)\n",
    "b = np.linspace(-0.1, 0.2, num=3)"
   ]
  },
  {
   "cell_type": "code",
   "execution_count": 17,
   "metadata": {
    "collapsed": false
   },
   "outputs": [
    {
     "name": "stdout",
     "output_type": "stream",
     "text": [
      "(2, 3, 4, 4) (3, 3, 4, 4)\n"
     ]
    }
   ],
   "source": [
    "print(x_shape,w_shape)"
   ]
  },
  {
   "cell_type": "code",
   "execution_count": 32,
   "metadata": {
    "collapsed": false
   },
   "outputs": [
    {
     "name": "stdout",
     "output_type": "stream",
     "text": [
      "(2, 3, 6, 6)\n"
     ]
    }
   ],
   "source": [
    "pad = 1\n",
    "stride = 2\n",
    "\n",
    "N = 2\n",
    "C = 3\n",
    "Y = np.zeros(shape=(N,C,4+2*pad,4+2*pad))\n",
    "print(Y.shape)"
   ]
  },
  {
   "cell_type": "code",
   "execution_count": 35,
   "metadata": {
    "collapsed": false
   },
   "outputs": [
    {
     "name": "stdout",
     "output_type": "stream",
     "text": [
      "(2, 3, 6, 6)\n",
      "(2, 3, 4, 4)\n",
      "Shape must be 2,3,6,6\n"
     ]
    }
   ],
   "source": [
    "for n in range(0,N):\n",
    "    for c in range(0,C):\n",
    "        y = np.pad(x[n,c,:,:],pad,'constant')\n",
    "        Y[n,c,:,:] = y\n",
    "\n",
    "print(Y.shape)        \n",
    "print(x.shape)\n",
    "print('Shape must be 2,3,6,6')\n"
   ]
  },
  {
   "cell_type": "code",
   "execution_count": 47,
   "metadata": {
    "collapsed": false
   },
   "outputs": [
    {
     "name": "stdout",
     "output_type": "stream",
     "text": [
      "[[ 0.52487828  0.72677854  0.07310091  0.33556952  0.51855713]\n",
      " [ 0.24125956  0.76495531  0.98795402  0.09366077  0.21351593]\n",
      " [ 0.08796527  0.11151965  0.58649138  0.60633281  0.30680243]\n",
      " [ 0.72276126  0.48601319  0.04405596  0.9324512   0.35564974]\n",
      " [ 0.76030702  0.40622066  0.68402075  0.57205811  0.27614941]]\n",
      "[[ 0.57178188  0.6608494   0.50134199  0.65555765  0.09876347]\n",
      " [ 0.4147175   0.62794953  0.70089168  0.6667082   0.19994701]\n",
      " [ 0.50253143  0.9923717   0.57119178  0.82231152  0.94969716]\n",
      " [ 0.0152182   0.36914558  0.34868258  0.2580815   0.65786336]\n",
      " [ 0.64627115  0.51952609  0.06230337  0.67888538  0.51385419]]\n"
     ]
    }
   ],
   "source": [
    "W = np.random.rand(5,5)\n",
    "print(W)\n",
    "\n",
    "X = np.random.rand(5,5)\n",
    "print(X)"
   ]
  },
  {
   "cell_type": "code",
   "execution_count": 50,
   "metadata": {
    "collapsed": false
   },
   "outputs": [
    {
     "name": "stdout",
     "output_type": "stream",
     "text": [
      "[[ 0.57178188  0.6608494   0.50134199  0.65555765  0.09876347]\n",
      " [ 0.4147175   0.62794953  0.70089168  0.6667082   0.19994701]\n",
      " [ 0.50253143  0.9923717   0.57119178  0.82231152  0.94969716]\n",
      " [ 0.0152182   0.36914558  0.34868258  0.2580815   0.65786336]\n",
      " [ 0.64627115  0.51952609  0.06230337  0.67888538  0.51385419]]\n"
     ]
    }
   ],
   "source": [
    "Z = W*X\n",
    "print(X)"
   ]
  },
  {
   "cell_type": "code",
   "execution_count": 52,
   "metadata": {
    "collapsed": false
   },
   "outputs": [
    {
     "name": "stdout",
     "output_type": "stream",
     "text": [
      "5.70175893401\n"
     ]
    }
   ],
   "source": [
    "print(np.sum(Z))"
   ]
  },
  {
   "cell_type": "code",
   "execution_count": 53,
   "metadata": {
    "collapsed": true
   },
   "outputs": [],
   "source": [
    "? np.sum"
   ]
  },
  {
   "cell_type": "code",
   "execution_count": null,
   "metadata": {
    "collapsed": true
   },
   "outputs": [],
   "source": []
  }
 ],
 "metadata": {
  "kernelspec": {
   "display_name": "Python 3",
   "language": "python",
   "name": "python3"
  },
  "language_info": {
   "codemirror_mode": {
    "name": "ipython",
    "version": 3
   },
   "file_extension": ".py",
   "mimetype": "text/x-python",
   "name": "python",
   "nbconvert_exporter": "python",
   "pygments_lexer": "ipython3",
   "version": "3.5.2"
  }
 },
 "nbformat": 4,
 "nbformat_minor": 0
}
