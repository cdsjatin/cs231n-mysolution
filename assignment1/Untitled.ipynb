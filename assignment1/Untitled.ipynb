{
 "cells": [
  {
   "cell_type": "code",
   "execution_count": 2,
   "metadata": {
    "collapsed": true
   },
   "outputs": [],
   "source": [
    "\n",
    "import numpy as np\n",
    "\n"
   ]
  },
  {
   "cell_type": "code",
   "execution_count": 24,
   "metadata": {
    "collapsed": false
   },
   "outputs": [
    {
     "name": "stdout",
     "output_type": "stream",
     "text": [
      "[[ 3  6 -9 -6 -6 -2  0 -5]\n",
      " [-3  3 -8 -3 -2  5  8 -4]\n",
      " [ 4 -1  0  7 -4  6  6 -9]\n",
      " [-6  8  5 -2 -9 -8  0 -9]] [[-4  2  3 -1]\n",
      " [ 0  2 -4  6]\n",
      " [-9  7 -8  3]\n",
      " [-2  4 -3 -4]\n",
      " [ 2  1  5 -5]]\n",
      "[[  0 -29  15  41  17  44  34  -6]\n",
      " [-58  58  14 -46 -42 -62  -8 -26]\n",
      " [-98  -1  40 -29  45 -19   8  62]\n",
      " [ -6 -29 -34 -13  52  38  14  57]\n",
      " [ 53 -30 -51  30  11  71  38 -14]]\n"
     ]
    }
   ],
   "source": [
    "np.random.seed(0)\n",
    "W = np.random.randint(-9,9,size=(4,8))\n",
    "\n",
    "np.random.seed(1)\n",
    "X =  np.random.randint(-9,9,size=(5,4))\n",
    "\n",
    "print(W,X)\n",
    "\n",
    "C = np.dot(X,W)\n",
    "\n",
    "print(C)"
   ]
  },
  {
   "cell_type": "code",
   "execution_count": 28,
   "metadata": {
    "collapsed": false
   },
   "outputs": [
    {
     "name": "stdout",
     "output_type": "stream",
     "text": [
      "[[False False  True  True  True  True  True False]\n",
      " [False  True  True False False False False False]\n",
      " [False False  True False  True False  True  True]\n",
      " [False False False False  True  True  True  True]\n",
      " [ True False False  True  True  True  True False]]\n",
      "[[ 0  0 15 41 17 44 34  0]\n",
      " [ 0 58 14  0  0  0  0  0]\n",
      " [ 0  0 40  0 45  0  8 62]\n",
      " [ 0  0  0  0 52 38 14 57]\n",
      " [53  0  0 30 11 71 38  0]]\n"
     ]
    }
   ],
   "source": [
    "c_mask = C > 0\n",
    "print(c_mask)\n",
    "\n",
    "D = C * (C > 0)\n",
    "print(D)"
   ]
  },
  {
   "cell_type": "code",
   "execution_count": 29,
   "metadata": {
    "collapsed": false
   },
   "outputs": [
    {
     "name": "stdout",
     "output_type": "stream",
     "text": [
      "[[-44 -44 -29  -3 -27   0 -10 -44]\n",
      " [-58   0 -44 -58 -58 -58 -58 -58]\n",
      " [-62 -62 -22 -62 -17 -62 -54   0]\n",
      " [-57 -57 -57 -57  -5 -19 -43   0]\n",
      " [-18 -71 -71 -41 -60   0 -33 -71]]\n"
     ]
    }
   ],
   "source": [
    "D -= np.max(D,1,keepdims=True)\n",
    "print(D)"
   ]
  },
  {
   "cell_type": "code",
   "execution_count": null,
   "metadata": {
    "collapsed": true
   },
   "outputs": [],
   "source": [
    "c = np.random.randint()"
   ]
  }
 ],
 "metadata": {
  "kernelspec": {
   "display_name": "Python 3",
   "language": "python",
   "name": "python3"
  },
  "language_info": {
   "codemirror_mode": {
    "name": "ipython",
    "version": 3
   },
   "file_extension": ".py",
   "mimetype": "text/x-python",
   "name": "python",
   "nbconvert_exporter": "python",
   "pygments_lexer": "ipython3",
   "version": "3.5.2"
  }
 },
 "nbformat": 4,
 "nbformat_minor": 0
}
