{
 "cells": [
  {
   "cell_type": "code",
   "execution_count": 1,
   "metadata": {
    "collapsed": true
   },
   "outputs": [],
   "source": [
    "import numpy as np"
   ]
  },
  {
   "cell_type": "code",
   "execution_count": 22,
   "metadata": {
    "collapsed": true
   },
   "outputs": [],
   "source": [
    "num_inputs = 2\n",
    "input_shape = (4, 5, 6)\n",
    "output_dim = 3\n",
    "\n",
    "input_size = num_inputs * np.prod(input_shape)\n",
    "weight_size = output_dim * np.prod(input_shape)\n",
    "\n",
    "x = np.linspace(-0.1, 0.5, num=input_size).reshape(num_inputs, *input_shape)\n",
    "w = np.linspace(-0.2, 0.3, num=weight_size).reshape(np.prod(input_shape), output_dim)\n",
    "b = np.linspace(-0.3, 0.1, num=output_dim)"
   ]
  },
  {
   "cell_type": "code",
   "execution_count": 31,
   "metadata": {
    "collapsed": false
   },
   "outputs": [
    {
     "data": {
      "text/plain": [
       "(2, 4, 5, 6)"
      ]
     },
     "execution_count": 31,
     "metadata": {},
     "output_type": "execute_result"
    }
   ],
   "source": [
    "x.shape"
   ]
  },
  {
   "cell_type": "code",
   "execution_count": 36,
   "metadata": {
    "collapsed": false
   },
   "outputs": [
    {
     "name": "stdout",
     "output_type": "stream",
     "text": [
      "(2, 120)\n"
     ]
    }
   ],
   "source": [
    "a = 1\n",
    "for k in x.shape[1:]:\n",
    "    a *= k\n",
    "a\n",
    "xx = x.reshape(2,a)\n",
    "print(x.reshape(2,a).shape)"
   ]
  },
  {
   "cell_type": "code",
   "execution_count": 44,
   "metadata": {
    "collapsed": false
   },
   "outputs": [
    {
     "data": {
      "text/plain": [
       "array([[[ 0.        ,  0.        ,  0.        ,  0.        ],\n",
       "        [ 0.        ,  0.        ,  0.04545455,  0.13636364],\n",
       "        [ 0.22727273,  0.31818182,  0.40909091,  0.5       ]]])"
      ]
     },
     "execution_count": 44,
     "metadata": {},
     "output_type": "execute_result"
    }
   ],
   "source": [
    "x = np.linspace(-0.5, 0.5, num=12).reshape(3, 4)\n",
    "x = np.maximum(0,x)\n",
    "\n",
    "y = x * [x > 0]\n",
    "y"
   ]
  },
  {
   "cell_type": "code",
   "execution_count": 18,
   "metadata": {
    "collapsed": true
   },
   "outputs": [],
   "source": [
    "? np.multiply"
   ]
  },
  {
   "cell_type": "code",
   "execution_count": 5,
   "metadata": {
    "collapsed": true
   },
   "outputs": [],
   "source": [
    "?np.random.randn"
   ]
  },
  {
   "cell_type": "code",
   "execution_count": 7,
   "metadata": {
    "collapsed": false
   },
   "outputs": [
    {
     "data": {
      "text/plain": [
       "array([[-0.00112839,  0.00117883, -0.00062077, ..., -0.00141543,\n",
       "        -0.00099226, -0.00074327],\n",
       "       [ 0.00071837,  0.00093135, -0.00061275, ...,  0.00080786,\n",
       "         0.00078979, -0.00102252],\n",
       "       [-0.00037729, -0.0003042 ,  0.00120269, ...,  0.00076969,\n",
       "        -0.00076243, -0.00070643],\n",
       "       ..., \n",
       "       [-0.00063786,  0.00047936, -0.00112482, ..., -0.00124411,\n",
       "         0.00013677, -0.00033421],\n",
       "       [ 0.00021886,  0.0021478 , -0.00134265, ...,  0.00132559,\n",
       "         0.00079304, -0.0003057 ],\n",
       "       [ 0.00014655, -0.00112367,  0.00069426, ...,  0.00078385,\n",
       "        -0.00030067, -0.00019286]])"
      ]
     },
     "execution_count": 7,
     "metadata": {},
     "output_type": "execute_result"
    }
   ],
   "source": [
    "input_dim=3*32*32 \n",
    "hidden_dim=100\n",
    "num_classes=10\n",
    "weight_scale=1e-3\n",
    "\n",
    "W1 = weight_scale*np.random.randn(input_dim,hidden_dim)\n",
    "b1 = np.zeros(hidden_dim)\n",
    "W2 = weight_scale*np.random.randn(hidden_dim,num_classes)\n",
    "b2 = np.zeros(num_classes)\n"
   ]
  },
  {
   "cell_type": "code",
   "execution_count": null,
   "metadata": {
    "collapsed": true
   },
   "outputs": [],
   "source": []
  }
 ],
 "metadata": {
  "kernelspec": {
   "display_name": "Python 3",
   "language": "python",
   "name": "python3"
  },
  "language_info": {
   "codemirror_mode": {
    "name": "ipython",
    "version": 3
   },
   "file_extension": ".py",
   "mimetype": "text/x-python",
   "name": "python",
   "nbconvert_exporter": "python",
   "pygments_lexer": "ipython3",
   "version": "3.5.3"
  }
 },
 "nbformat": 4,
 "nbformat_minor": 0
}
