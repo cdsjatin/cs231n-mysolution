{
 "cells": [
  {
   "cell_type": "code",
   "execution_count": 2,
   "metadata": {
    "collapsed": true
   },
   "outputs": [],
   "source": [
    "import numpy as np\n"
   ]
  },
  {
   "cell_type": "code",
   "execution_count": 3,
   "metadata": {
    "collapsed": false
   },
   "outputs": [
    {
     "name": "stdout",
     "output_type": "stream",
     "text": [
      "[[[-0.12936273  0.03414432 -0.43142795 -0.93239771 -0.6468184 ]\n",
      "  [-0.05956017 -0.19433691 -0.2300829   0.26941382 -0.39662214]\n",
      "  [ 0.92679289  0.73179236  0.56531548 -0.8964827   0.58027258]\n",
      "  [-0.22073116 -0.19593607  0.27122106 -0.92636818  0.19172752]]\n",
      "\n",
      " [[ 0.2974577  -0.11254188 -0.84204969  0.44456656  0.51301733]\n",
      "  [-0.07048611  0.83690996  1.96278642  0.23998679 -0.33240664]\n",
      "  [-0.98967131  0.58445867  1.31377064 -0.47925357 -0.12470899]\n",
      "  [-0.36294655  0.2560301  -0.06184156 -0.47804009  0.01365952]]]\n"
     ]
    }
   ],
   "source": [
    "a = np.random.randn(2,3,4,5)\n"
   ]
  },
  {
   "cell_type": "code",
   "execution_count": 6,
   "metadata": {
    "collapsed": false
   },
   "outputs": [
    {
     "name": "stdout",
     "output_type": "stream",
     "text": [
      "(3, 4, 5)\n"
     ]
    }
   ],
   "source": [
    "print(np.mean(a,axis=0).shape)"
   ]
  },
  {
   "cell_type": "code",
   "execution_count": 7,
   "metadata": {
    "collapsed": true
   },
   "outputs": [],
   "source": [
    "? np.zeros"
   ]
  },
  {
   "cell_type": "code",
   "execution_count": 8,
   "metadata": {
    "collapsed": true
   },
   "outputs": [],
   "source": [
    "? np.reshape"
   ]
  },
  {
   "cell_type": "code",
   "execution_count": null,
   "metadata": {
    "collapsed": true
   },
   "outputs": [],
   "source": []
  }
 ],
 "metadata": {
  "kernelspec": {
   "display_name": "Python 3",
   "language": "python",
   "name": "python3"
  },
  "language_info": {
   "codemirror_mode": {
    "name": "ipython",
    "version": 3
   },
   "file_extension": ".py",
   "mimetype": "text/x-python",
   "name": "python",
   "nbconvert_exporter": "python",
   "pygments_lexer": "ipython3",
   "version": "3.5.2"
  }
 },
 "nbformat": 4,
 "nbformat_minor": 0
}
